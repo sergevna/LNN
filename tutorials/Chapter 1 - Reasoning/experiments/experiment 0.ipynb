{
 "cells": [
  {
   "cell_type": "markdown",
   "metadata": {
    "tags": []
   },
   "source": [
    "# Propositional Logic Experiment\n",
    "\n",
    "In this notebook, we will test your skills on using the LNN in a propositional setting. You will be required to use your knowledge about per-node reasoning and bounds to complete the code and answer the query. Once you have evaluated the end result, [submit your answer](https://ibm.ent.box.com/notes/928968934657?s=42l32h0uno2ndq5o9omb7hl17dddpjuk) to become eligble for the [IBM Neuro-Symbolic AI Essentials](https://ibm.biz/nsai-essentials) Badge."
   ]
  },
  {
   "cell_type": "markdown",
   "metadata": {
    "tags": []
   },
   "source": [
    "### Learning Outcomes\n",
    "\n",
    "The [Propositional Logic](../0.%20Propositional%20Logic.ipynb) notebooks demonstrated logical reasoning to evaluate and inspect an LNN graph. This experiment will assess your ability to deconstruct a graph and infer truths for individual nodes. Completing the notebook provides the following learning outcomes:\n",
    "\n",
    "- Omni-directional inference per-node\n",
    "- Printing nodes to evaluate truths\n",
    "- Querying information based on inferred truths"
   ]
  },
  {
   "cell_type": "markdown",
   "metadata": {
    "tags": []
   },
   "source": [
    "### Instructions\n",
    "\n",
    "1. _Use_ the illustrations given as a guide on how to reason with an LNN graph\n",
    "\n",
    "2. _Fill_ in code that will evaluate the correct truth values expected from performing logical inference\n",
    "\n",
    "3. _Query_ the logical disjunction between nodes B, D and E\n",
    "\n",
    "4. _Copy & paste_ the output of the result into the form under the `results` field "
   ]
  },
  {
   "cell_type": "markdown",
   "metadata": {},
   "source": [
    "### Propositional Inference\n",
    "\n",
    "Recall that a proposition is any declarative sentence that allows you to associate a truth value with the atomic formulae. An LNN graph can hierarchically compose these propositions using logical connectives and reason over their respective truths. Evaluating a particular node requires an upward/downward inference pass.\n",
    "\n",
    "Suppose that you are given the following LNN graph:\n",
    "\n",
    "\n",
    "where the following beliefs are outputs from sensor information:\n",
    "```\n",
    "root: TRUE\n",
    "A: 0.2\n",
    "C: True\n",
    "E: 0.3 - 0.7\n",
    "```\n",
    "\n",
    "Your task is to perform successive inference passes to obtain the truth value of a query node. \n",
    "> HINT: use the `node.print()` function as a guide to ensure that the LNN is returning the correct truths. \n",
    "\n",
    "The final query is to return the truth of a **disjunction** of the following propositions:\n",
    "\n",
    "\\begin{equation}(B, D, E)\\end{equation}\n",
    "\n",
    "> NB: use the provided function definition to help you extract out the correct truth value bounds\n",
    "\n",
    "<center>\n",
    "    <figure>\n",
    "        <img src=\"../img/experiment/0/graph.png\" width=\"400\" />\n",
    "        <figcaption>Figure 1. Propositional inference</figcaption>\n",
    "    </figure>\n",
    "</center>"
   ]
  },
  {
   "cell_type": "markdown",
   "metadata": {},
   "source": [
    "Fill in the codeblock below to construct the graph and reason about all nodes:"
   ]
  },
  {
   "cell_type": "code",
   "execution_count": 18,
   "metadata": {
    "tags": []
   },
   "outputs": [
    {
     "name": "stdout",
     "output_type": "stream",
     "text": [
      "OPEN Proposition: A                                 APPROX_FALSE (0.2, 0.2)\n",
      "\n",
      "OPEN Proposition: C                                         TRUE (1.0, 1.0)\n",
      "\n",
      "OPEN Proposition: E                                APPROX_UNKNOWN (0.3, 0.7)\n",
      "\n",
      "OPEN And: (C ∧ D)                                        UNKNOWN (0.0, 1.0)\n",
      "\n",
      "OPEN Iff: (((C ∧ D) → E) ∧ (E → (C ∧ D)))                UNKNOWN (0.0, 1.0)\n",
      "\n",
      "OPEN Implies: (A → B)                                    UNKNOWN (0.0, 1.0)\n",
      "\n",
      "OPEN And: ((A → B) ∧ (((C ∧ D) → E) ∧ (E → (C ∧ D))))          TRUE (1.0, 1.0)\n",
      "\n"
     ]
    },
    {
     "data": {
      "text/plain": [
       "(2, tensor(4.8000))"
      ]
     },
     "execution_count": 18,
     "metadata": {},
     "output_type": "execute_result"
    }
   ],
   "source": [
    "from lnn import Model, Proposition, Propositions, And, Or, Fact, Iff, Implies\n",
    "\n",
    "# Knowledge\n",
    "A, B, C, D, E = Propositions(\"A\", \"B\", \"C\", \"D\", \"E\")\n",
    "A.add_data((0.2, 0.2))\n",
    "C.add_data(Fact.TRUE)\n",
    "E.add_data((0.3, 0.7))\n",
    "A.print()\n",
    "C.print()\n",
    "E.print()\n",
    "\n",
    "n1 = And(C, D)\n",
    "n1.print()\n",
    "\n",
    "n2 = Iff(n1, E)\n",
    "n2.print()\n",
    "\n",
    "n3 = Implies(A, B)\n",
    "n3.print()\n",
    "\n",
    "n0 = And(n3, n2)\n",
    "n0.add_data(Fact.TRUE)\n",
    "n0.print()\n",
    "\n",
    "model = Model()\n",
    "model.add_knowledge(n0)\n",
    "\n",
    "model.infer()\n",
    "# model.infer(lifted=False) # which one is correct? are results the same?\n",
    "\n",
    "# Data\n",
    "# ...\n",
    "\n",
    "# Reasoning\n",
    "# ..."
   ]
  },
  {
   "cell_type": "code",
   "execution_count": 21,
   "metadata": {},
   "outputs": [
    {
     "name": "stdout",
     "output_type": "stream",
     "text": [
      "OPEN Proposition: B                                APPROX_UNKNOWN (0.2, 1.0)\n",
      "\n",
      "OPEN Proposition: D                                APPROX_UNKNOWN (0.3, 0.7)\n",
      "\n",
      "OPEN Proposition: E                                APPROX_UNKNOWN (0.3, 0.7)\n",
      "\n"
     ]
    }
   ],
   "source": [
    "B.print()\n",
    "D.print()\n",
    "E.print()"
   ]
  },
  {
   "cell_type": "code",
   "execution_count": 23,
   "metadata": {},
   "outputs": [
    {
     "name": "stdout",
     "output_type": "stream",
     "text": [
      "OPEN Or: (B ∨ D ∨ E)                                     UNKNOWN (0.0, 1.0)\n",
      "\n"
     ]
    }
   ],
   "source": [
    "n = Or(B, D, E)\n",
    "n.print()"
   ]
  },
  {
   "cell_type": "code",
   "execution_count": 25,
   "metadata": {},
   "outputs": [
    {
     "name": "stdout",
     "output_type": "stream",
     "text": [
      "OPEN Or: (B ∨ D ∨ E)                                 APPROX_TRUE (0.8, 1.0)\n",
      "\n"
     ]
    }
   ],
   "source": [
    "n.upward()\n",
    "n.print()"
   ]
  },
  {
   "cell_type": "code",
   "execution_count": 26,
   "metadata": {},
   "outputs": [
    {
     "data": {
      "text/plain": [
       "'APPROX_TRUE: (0.8, 1.0)'"
      ]
     },
     "execution_count": 26,
     "metadata": {},
     "output_type": "execute_result"
    }
   ],
   "source": [
    "query_state(n)"
   ]
  },
  {
   "cell_type": "markdown",
   "metadata": {},
   "source": [
    "### Query\n",
    "Finally, find the state of the **disjunction** between nodes `B`, `D` and `E` using the `query_state` method.\n",
    "\n",
    "<center>\n",
    "    <figure>\n",
    "        <img src=\"../img/experiment/0/query.png\" width=\"200\" />\n",
    "        <figcaption>Figure 5. Perform inference to find the disjunction between nodes B, D and E</figcaption>\n",
    "    </figure>\n",
    "</center>"
   ]
  },
  {
   "cell_type": "code",
   "execution_count": 22,
   "metadata": {},
   "outputs": [],
   "source": [
    "def query_state(node):\n",
    "    round_off = lambda my_list: [float(f\"{_:.1f}\") for _ in my_list]\n",
    "    return f\"{node.state().name}: {tuple(round_off(node.get_data().tolist()))}\""
   ]
  },
  {
   "cell_type": "markdown",
   "metadata": {},
   "source": [
    "Fill in the codeblock below to extract the solution to the query:"
   ]
  },
  {
   "cell_type": "code",
   "execution_count": 27,
   "metadata": {},
   "outputs": [
    {
     "data": {
      "text/plain": [
       "'APPROX_TRUE: (0.8, 1.0)'"
      ]
     },
     "execution_count": 27,
     "metadata": {},
     "output_type": "execute_result"
    }
   ],
   "source": [
    "query = Or(B, D, E)\n",
    "query.upward()\n",
    "query_state(query)"
   ]
  },
  {
   "cell_type": "markdown",
   "metadata": {},
   "source": [
    "<h2 style=\"color:#0f62fe\"><strong>NSAI Essentials Submission</strong></h2>\n",
    "\n",
    "The output from the cell above, **including the quotation marks**, should be submitted to the evaluation form. See the [NSAI Essentials description](https://ibm.ent.box.com/notes/928968934657?s=42l32h0uno2ndq5o9omb7hl17dddpjuk) for more details.\n",
    "\n",
    "🎉 Congratulations on completing the first set of tutorials on propositional logic 🎉 "
   ]
  }
 ],
 "metadata": {
  "kernelspec": {
   "display_name": "lnn-contrib_",
   "language": "python",
   "name": "lnn-contrib_"
  },
  "language_info": {
   "codemirror_mode": {
    "name": "ipython",
    "version": 3
   },
   "file_extension": ".py",
   "mimetype": "text/x-python",
   "name": "python",
   "nbconvert_exporter": "python",
   "pygments_lexer": "ipython3",
   "version": "3.9.15"
  },
  "toc": {
   "base_numbering": 1,
   "nav_menu": {},
   "number_sections": true,
   "sideBar": true,
   "skip_h1_title": false,
   "title_cell": "Table of Contents",
   "title_sidebar": "Contents",
   "toc_cell": false,
   "toc_position": {},
   "toc_section_display": true,
   "toc_window_display": true
  }
 },
 "nbformat": 4,
 "nbformat_minor": 5
}
